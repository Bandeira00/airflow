{
 "cells": [
  {
   "cell_type": "code",
   "execution_count": 1,
   "metadata": {},
   "outputs": [],
   "source": [
    "import os\n",
    "import pandas as pd\n",
    "from datetime import datetime, timedelta"
   ]
  },
  {
   "cell_type": "code",
   "execution_count": 2,
   "metadata": {},
   "outputs": [],
   "source": [
    "import sys\n",
    "sys.path.append(r'/home/gabriel/Documents/proj/utils/')\n",
    "\n",
    "from utils import createSparkSesion\n",
    "from pyspark.sql import (functions as F,\n",
    "                                        Window)\n",
    "import matplotlib.pyplot as plt\n",
    "import pandas as pd"
   ]
  },
  {
   "cell_type": "code",
   "execution_count": 3,
   "metadata": {},
   "outputs": [
    {
     "name": "stderr",
     "output_type": "stream",
     "text": [
      "25/04/03 21:09:02 WARN Utils: Your hostname, GabrielUnbunto resolves to a loopback address: 127.0.1.1; using 10.0.2.15 instead (on interface enp0s3)\n",
      "25/04/03 21:09:02 WARN Utils: Set SPARK_LOCAL_IP if you need to bind to another address\n",
      "25/04/03 21:09:03 WARN NativeCodeLoader: Unable to load native-hadoop library for your platform... using builtin-java classes where applicable\n",
      "Setting default log level to \"WARN\".\n",
      "To adjust logging level use sc.setLogLevel(newLevel). For SparkR, use setLogLevel(newLevel).\n"
     ]
    },
    {
     "name": "stdout",
     "output_type": "stream",
     "text": [
      "<pyspark.sql.session.SparkSession object at 0x7f6274aad610>\n"
     ]
    }
   ],
   "source": [
    "spark = createSparkSesion()"
   ]
  },
  {
   "cell_type": "code",
   "execution_count": 4,
   "metadata": {},
   "outputs": [
    {
     "data": {
      "text/html": [
       "\n",
       "        <div>\n",
       "            <p><b>SparkContext</b></p>\n",
       "\n",
       "            <p><a href=\"http://10.0.2.15:4040\">Spark UI</a></p>\n",
       "\n",
       "            <dl>\n",
       "              <dt>Version</dt>\n",
       "                <dd><code>v3.5.5</code></dd>\n",
       "              <dt>Master</dt>\n",
       "                <dd><code>local[*]</code></dd>\n",
       "              <dt>AppName</dt>\n",
       "                <dd><code>Analises</code></dd>\n",
       "            </dl>\n",
       "        </div>\n",
       "        "
      ],
      "text/plain": [
       "<SparkContext master=local[*] appName=Analises>"
      ]
     },
     "execution_count": 4,
     "metadata": {},
     "output_type": "execute_result"
    }
   ],
   "source": [
    "spark.sparkContext"
   ]
  },
  {
   "cell_type": "markdown",
   "metadata": {},
   "source": [
    "https://weather.visualcrossing.com/VisualCrossingWebServices/rest/services/timeline/[location]/[date1]/[date2]?key=YOUR_API_KEY"
   ]
  },
  {
   "cell_type": "code",
   "execution_count": 5,
   "metadata": {},
   "outputs": [],
   "source": [
    "api_base_url = \"https://weather.visualcrossing.com/VisualCrossingWebServices/rest/services/timeline/\"\n",
    "api_key      = \"PQWYU6EJ2B473ZQS6SASXUJAZ\""
   ]
  },
  {
   "cell_type": "code",
   "execution_count": 6,
   "metadata": {},
   "outputs": [],
   "source": [
    "start_date  = (datetime.today()).strftime('%Y-%m-%d')\n",
    "end_date    = (datetime.today() + timedelta(days=7)).strftime('%Y-%m-%d')"
   ]
  },
  {
   "cell_type": "code",
   "execution_count": 7,
   "metadata": {},
   "outputs": [],
   "source": [
    "location = 'Boston'"
   ]
  },
  {
   "cell_type": "code",
   "execution_count": 8,
   "metadata": {},
   "outputs": [
    {
     "data": {
      "text/plain": [
       "'https://weather.visualcrossing.com/VisualCrossingWebServices/rest/services/timeline//Boston/2025-04-03/2025-04-10?unitGroup=metric&include=days&key=PQWYU6EJ2B473ZQS6SASXUJAZ&contentType=csv'"
      ]
     },
     "execution_count": 8,
     "metadata": {},
     "output_type": "execute_result"
    }
   ],
   "source": [
    "request_url = f'{api_base_url}/{location}/{start_date}/{end_date}?unitGroup=metric&include=days&key={api_key}&contentType=csv'\n",
    "request_url"
   ]
  },
  {
   "cell_type": "code",
   "execution_count": 9,
   "metadata": {},
   "outputs": [],
   "source": [
    "pd_weather_df  = pd.read_csv(request_url)"
   ]
  },
  {
   "cell_type": "code",
   "execution_count": 22,
   "metadata": {},
   "outputs": [],
   "source": [
    "weather_df = spark.createDataFrame(pd_weather_df).withColumn(\"inference_date\" , F.lit(datetime.now().strftime(\"%Y-%m-%d\")))"
   ]
  },
  {
   "cell_type": "code",
   "execution_count": 23,
   "metadata": {},
   "outputs": [
    {
     "data": {
      "text/html": [
       "<div>\n",
       "<style scoped>\n",
       "    .dataframe tbody tr th:only-of-type {\n",
       "        vertical-align: middle;\n",
       "    }\n",
       "\n",
       "    .dataframe tbody tr th {\n",
       "        vertical-align: top;\n",
       "    }\n",
       "\n",
       "    .dataframe thead th {\n",
       "        text-align: right;\n",
       "    }\n",
       "</style>\n",
       "<table border=\"1\" class=\"dataframe\">\n",
       "  <thead>\n",
       "    <tr style=\"text-align: right;\">\n",
       "      <th></th>\n",
       "      <th>name</th>\n",
       "      <th>datetime</th>\n",
       "      <th>tempmax</th>\n",
       "      <th>tempmin</th>\n",
       "      <th>temp</th>\n",
       "      <th>feelslikemax</th>\n",
       "      <th>feelslikemin</th>\n",
       "      <th>feelslike</th>\n",
       "      <th>dew</th>\n",
       "      <th>humidity</th>\n",
       "      <th>...</th>\n",
       "      <th>uvindex</th>\n",
       "      <th>severerisk</th>\n",
       "      <th>sunrise</th>\n",
       "      <th>sunset</th>\n",
       "      <th>moonphase</th>\n",
       "      <th>conditions</th>\n",
       "      <th>description</th>\n",
       "      <th>icon</th>\n",
       "      <th>stations</th>\n",
       "      <th>inference_date</th>\n",
       "    </tr>\n",
       "  </thead>\n",
       "  <tbody>\n",
       "    <tr>\n",
       "      <th>0</th>\n",
       "      <td>Boston, MA, United States</td>\n",
       "      <td>2025-04-03</td>\n",
       "      <td>17.9</td>\n",
       "      <td>2.3</td>\n",
       "      <td>9.9</td>\n",
       "      <td>17.9</td>\n",
       "      <td>-2.4</td>\n",
       "      <td>7.9</td>\n",
       "      <td>7.8</td>\n",
       "      <td>87.3</td>\n",
       "      <td>...</td>\n",
       "      <td>8</td>\n",
       "      <td>10</td>\n",
       "      <td>2025-04-03T06:22:44</td>\n",
       "      <td>2025-04-03T19:12:50</td>\n",
       "      <td>0.18</td>\n",
       "      <td>Rain, Overcast</td>\n",
       "      <td>Cloudy skies throughout the day with a chance ...</td>\n",
       "      <td>rain</td>\n",
       "      <td>KOWD,AV085,KBED,0518W,KBOS</td>\n",
       "      <td>2025-04-03</td>\n",
       "    </tr>\n",
       "    <tr>\n",
       "      <th>1</th>\n",
       "      <td>Boston, MA, United States</td>\n",
       "      <td>2025-04-04</td>\n",
       "      <td>15.0</td>\n",
       "      <td>9.5</td>\n",
       "      <td>12.9</td>\n",
       "      <td>15.0</td>\n",
       "      <td>7.8</td>\n",
       "      <td>12.9</td>\n",
       "      <td>4.7</td>\n",
       "      <td>58.8</td>\n",
       "      <td>...</td>\n",
       "      <td>7</td>\n",
       "      <td>10</td>\n",
       "      <td>2025-04-04T06:21:02</td>\n",
       "      <td>2025-04-04T19:13:57</td>\n",
       "      <td>0.25</td>\n",
       "      <td>Partially cloudy</td>\n",
       "      <td>Partly cloudy throughout the day.</td>\n",
       "      <td>partly-cloudy-day</td>\n",
       "      <td>NaN</td>\n",
       "      <td>2025-04-03</td>\n",
       "    </tr>\n",
       "    <tr>\n",
       "      <th>2</th>\n",
       "      <td>Boston, MA, United States</td>\n",
       "      <td>2025-04-05</td>\n",
       "      <td>8.9</td>\n",
       "      <td>6.2</td>\n",
       "      <td>6.6</td>\n",
       "      <td>7.1</td>\n",
       "      <td>2.7</td>\n",
       "      <td>3.6</td>\n",
       "      <td>0.8</td>\n",
       "      <td>66.6</td>\n",
       "      <td>...</td>\n",
       "      <td>2</td>\n",
       "      <td>10</td>\n",
       "      <td>2025-04-05T06:19:20</td>\n",
       "      <td>2025-04-05T19:15:05</td>\n",
       "      <td>0.25</td>\n",
       "      <td>Rain, Partially cloudy</td>\n",
       "      <td>Partly cloudy throughout the day with rain.</td>\n",
       "      <td>rain</td>\n",
       "      <td>NaN</td>\n",
       "      <td>2025-04-03</td>\n",
       "    </tr>\n",
       "    <tr>\n",
       "      <th>3</th>\n",
       "      <td>Boston, MA, United States</td>\n",
       "      <td>2025-04-06</td>\n",
       "      <td>12.8</td>\n",
       "      <td>6.6</td>\n",
       "      <td>9.9</td>\n",
       "      <td>12.8</td>\n",
       "      <td>3.6</td>\n",
       "      <td>8.7</td>\n",
       "      <td>7.6</td>\n",
       "      <td>86.4</td>\n",
       "      <td>...</td>\n",
       "      <td>0</td>\n",
       "      <td>10</td>\n",
       "      <td>2025-04-06T06:17:39</td>\n",
       "      <td>2025-04-06T19:16:13</td>\n",
       "      <td>0.28</td>\n",
       "      <td>Rain, Partially cloudy</td>\n",
       "      <td>Partly cloudy throughout the day with a chance...</td>\n",
       "      <td>rain</td>\n",
       "      <td>NaN</td>\n",
       "      <td>2025-04-03</td>\n",
       "    </tr>\n",
       "    <tr>\n",
       "      <th>4</th>\n",
       "      <td>Boston, MA, United States</td>\n",
       "      <td>2025-04-07</td>\n",
       "      <td>10.0</td>\n",
       "      <td>5.4</td>\n",
       "      <td>7.3</td>\n",
       "      <td>8.3</td>\n",
       "      <td>3.7</td>\n",
       "      <td>5.3</td>\n",
       "      <td>0.9</td>\n",
       "      <td>64.1</td>\n",
       "      <td>...</td>\n",
       "      <td>0</td>\n",
       "      <td>10</td>\n",
       "      <td>2025-04-07T06:15:58</td>\n",
       "      <td>2025-04-07T19:17:20</td>\n",
       "      <td>0.32</td>\n",
       "      <td>Rain, Partially cloudy</td>\n",
       "      <td>Partly cloudy throughout the day with rain cle...</td>\n",
       "      <td>rain</td>\n",
       "      <td>NaN</td>\n",
       "      <td>2025-04-03</td>\n",
       "    </tr>\n",
       "  </tbody>\n",
       "</table>\n",
       "<p>5 rows × 34 columns</p>\n",
       "</div>"
      ],
      "text/plain": [
       "                        name    datetime  tempmax  tempmin  temp  \\\n",
       "0  Boston, MA, United States  2025-04-03     17.9      2.3   9.9   \n",
       "1  Boston, MA, United States  2025-04-04     15.0      9.5  12.9   \n",
       "2  Boston, MA, United States  2025-04-05      8.9      6.2   6.6   \n",
       "3  Boston, MA, United States  2025-04-06     12.8      6.6   9.9   \n",
       "4  Boston, MA, United States  2025-04-07     10.0      5.4   7.3   \n",
       "\n",
       "   feelslikemax  feelslikemin  feelslike  dew  humidity  ...  uvindex  \\\n",
       "0          17.9          -2.4        7.9  7.8      87.3  ...        8   \n",
       "1          15.0           7.8       12.9  4.7      58.8  ...        7   \n",
       "2           7.1           2.7        3.6  0.8      66.6  ...        2   \n",
       "3          12.8           3.6        8.7  7.6      86.4  ...        0   \n",
       "4           8.3           3.7        5.3  0.9      64.1  ...        0   \n",
       "\n",
       "   severerisk              sunrise               sunset  moonphase  \\\n",
       "0          10  2025-04-03T06:22:44  2025-04-03T19:12:50       0.18   \n",
       "1          10  2025-04-04T06:21:02  2025-04-04T19:13:57       0.25   \n",
       "2          10  2025-04-05T06:19:20  2025-04-05T19:15:05       0.25   \n",
       "3          10  2025-04-06T06:17:39  2025-04-06T19:16:13       0.28   \n",
       "4          10  2025-04-07T06:15:58  2025-04-07T19:17:20       0.32   \n",
       "\n",
       "               conditions                                        description  \\\n",
       "0          Rain, Overcast  Cloudy skies throughout the day with a chance ...   \n",
       "1        Partially cloudy                  Partly cloudy throughout the day.   \n",
       "2  Rain, Partially cloudy        Partly cloudy throughout the day with rain.   \n",
       "3  Rain, Partially cloudy  Partly cloudy throughout the day with a chance...   \n",
       "4  Rain, Partially cloudy  Partly cloudy throughout the day with rain cle...   \n",
       "\n",
       "                icon                    stations  inference_date  \n",
       "0               rain  KOWD,AV085,KBED,0518W,KBOS      2025-04-03  \n",
       "1  partly-cloudy-day                         NaN      2025-04-03  \n",
       "2               rain                         NaN      2025-04-03  \n",
       "3               rain                         NaN      2025-04-03  \n",
       "4               rain                         NaN      2025-04-03  \n",
       "\n",
       "[5 rows x 34 columns]"
      ]
     },
     "execution_count": 23,
     "metadata": {},
     "output_type": "execute_result"
    }
   ],
   "source": [
    "weather_df.takePandas()"
   ]
  },
  {
   "cell_type": "code",
   "execution_count": null,
   "metadata": {},
   "outputs": [],
   "source": [
    "(weather_df.write \n",
    "    .format(\"jdbc\") \n",
    "    .option(\"url\", \"jdbc:postgresql://localhost:5432/weatherProject\") \n",
    "    .option(\"dbtable\", \"raw_weather_info\") \n",
    "    .option(\"user\", \"postgres\") \n",
    "    .option(\"password\", \"30061725\") \n",
    "    .option(\"driver\", \"org.postgresql.Driver\") \n",
    "    .mode(\"append\")   \n",
    "    .save())\n"
   ]
  }
 ],
 "metadata": {
  "kernelspec": {
   "display_name": "Python 3",
   "language": "python",
   "name": "python3"
  },
  "language_info": {
   "codemirror_mode": {
    "name": "ipython",
    "version": 3
   },
   "file_extension": ".py",
   "mimetype": "text/x-python",
   "name": "python",
   "nbconvert_exporter": "python",
   "pygments_lexer": "ipython3",
   "version": "3.8.10"
  }
 },
 "nbformat": 4,
 "nbformat_minor": 2
}
